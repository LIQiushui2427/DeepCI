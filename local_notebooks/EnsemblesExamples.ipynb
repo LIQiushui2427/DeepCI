{
 "cells": [
  {
   "cell_type": "code",
   "execution_count": null,
   "metadata": {},
   "outputs": [],
   "source": [
    "%load_ext autoreload\n",
    "%autoreload 2\n",
    "import warnings\n",
    "warnings.simplefilter('ignore')"
   ]
  },
  {
   "cell_type": "code",
   "execution_count": null,
   "metadata": {},
   "outputs": [],
   "source": [
    "import numpy as np\n",
    "import matplotlib.pyplot as plt \n",
    "from mliv.dgps import get_data, get_tau_fn, fn_dict\n",
    "from mliv.ensemble import EnsembleIV, EnsembleIVStar\n",
    "from sklearn.linear_model import LinearRegression, LogisticRegression\n",
    "from sklearn.preprocessing import PolynomialFeatures\n",
    "from sklearn.ensemble import RandomForestRegressor, RandomForestClassifier"
   ]
  },
  {
   "cell_type": "markdown",
   "metadata": {},
   "source": [
    "# DGPs"
   ]
  },
  {
   "cell_type": "code",
   "execution_count": null,
   "metadata": {},
   "outputs": [],
   "source": [
    "n = 5000\n",
    "n_z = 1\n",
    "iv_strength = .6\n",
    "fname = 'abs'\n",
    "dgp_num = 5\n",
    "Z, T, Y, true_fn = get_data(n, n_z, iv_strength, get_tau_fn(fn_dict[fname]), dgp_num)"
   ]
  },
  {
   "cell_type": "code",
   "execution_count": null,
   "metadata": {},
   "outputs": [],
   "source": [
    "ind = 0\n",
    "x_grid = np.linspace(np.quantile(T[:, ind], .01), np.quantile(T[:, ind], .99), 100)\n",
    "T_test = np.zeros((100, T.shape[1])) + np.median(T, axis=0, keepdims=True)\n",
    "T_test[:, ind] = x_grid"
   ]
  },
  {
   "cell_type": "code",
   "execution_count": null,
   "metadata": {},
   "outputs": [],
   "source": [
    "plt.figure(figsize=(10,3))\n",
    "plt.subplot(1, 2, 1)\n",
    "plt.scatter(Z[:, 0], Y)\n",
    "plt.subplot(1, 2, 2)\n",
    "plt.scatter(T[:, 0], Y)\n",
    "plt.plot(T[np.argsort(T[:, ind]), ind], true_fn(T[np.argsort(T[:, ind])]))\n",
    "plt.show()"
   ]
  },
  {
   "cell_type": "markdown",
   "metadata": {},
   "source": [
    "# Ensemble Learning"
   ]
  },
  {
   "cell_type": "code",
   "execution_count": null,
   "metadata": {},
   "outputs": [],
   "source": [
    "est = EnsembleIV(n_iter=100,\n",
    "                 max_abs_value=2,\n",
    "                 adversary=RandomForestRegressor(max_depth=3, n_estimators=40, min_samples_leaf=50),\n",
    "                 learner=RandomForestClassifier(max_depth=3, bootstrap=False, min_samples_leaf=50, \n",
    "                                                n_estimators=5)).fit(Z, T, Y)"
   ]
  },
  {
   "cell_type": "code",
   "execution_count": null,
   "metadata": {},
   "outputs": [],
   "source": [
    "est = EnsembleIVStar(n_iter=100,\n",
    "                     max_abs_value=4,\n",
    "                     adversary=RandomForestRegressor(max_depth=3, n_estimators=2, min_samples_leaf=50),\n",
    "                     learner=RandomForestClassifier(max_depth=3, bootstrap=False, min_samples_leaf=50, \n",
    "                                                    n_estimators=5)).fit(Z, T, Y)"
   ]
  },
  {
   "cell_type": "code",
   "execution_count": null,
   "metadata": {
    "colab": {},
    "colab_type": "code",
    "id": "iP2HWMBgDGtH"
   },
   "outputs": [],
   "source": [
    "y_pred = est.predict(T_test)\n",
    "y_pred_train = est.predict(T)"
   ]
  },
  {
   "cell_type": "code",
   "execution_count": null,
   "metadata": {},
   "outputs": [],
   "source": [
    "R2train = 1 - np.mean((true_fn(T).flatten() - y_pred_train.flatten())**2)/np.var(true_fn(T).flatten())\n",
    "R2test = np.mean((true_fn(T_test).flatten() - y_pred.flatten())**2)\n",
    "plt.title(\"R2Train: {:.3f}, MSETest: {:.3f}\".format(R2train, R2test))\n",
    "plt.plot(T_test[:, ind], y_pred, label='est')\n",
    "plt.plot(T_test[:, ind], RandomForestRegressor(n_estimators=100, max_depth=10).fit(T, Y.flatten()).predict(T_test),\n",
    "         label='direct')\n",
    "plt.plot(T_test[:, ind], true_fn(T_test), label='true')\n",
    "plt.legend()\n",
    "plt.show()"
   ]
  },
  {
   "cell_type": "code",
   "execution_count": null,
   "metadata": {},
   "outputs": [],
   "source": [
    "y_direct = RandomForestRegressor(n_estimators=100, max_depth=10).fit(T, Y.flatten()).predict(T_test)\n",
    "np.mean((true_fn(T_test).flatten() - y_direct.flatten())**2)"
   ]
  },
  {
   "cell_type": "code",
   "execution_count": null,
   "metadata": {},
   "outputs": [],
   "source": [
    "y_direct = RandomForestRegressor(n_estimators=100, max_depth=10).fit(T, Y.flatten()).predict(T)\n",
    "1 - np.mean((true_fn(T).flatten() - y_direct.flatten())**2)/np.var(true_fn(T).flatten())"
   ]
  },
  {
   "cell_type": "code",
   "execution_count": null,
   "metadata": {},
   "outputs": [],
   "source": []
  }
 ],
 "metadata": {
  "accelerator": "GPU",
  "colab": {
   "collapsed_sections": [],
   "name": "EnsemblesExamples.ipynb",
   "provenance": [
    {
     "file_id": "1W5WLAetcYo9_IOXC68m8Ois8sr_AYXM8",
     "timestamp": 1587650581142
    }
   ]
  },
  "kernelspec": {
   "display_name": "base",
   "language": "python",
   "name": "python3"
  },
  "language_info": {
   "codemirror_mode": {
    "name": "ipython",
    "version": 3
   },
   "file_extension": ".py",
   "mimetype": "text/x-python",
   "name": "python",
   "nbconvert_exporter": "python",
   "pygments_lexer": "ipython3",
   "version": "3.9.13 (main, Aug 25 2022, 23:51:50) [MSC v.1916 64 bit (AMD64)]"
  },
  "vscode": {
   "interpreter": {
    "hash": "bddb6c94227d8177e61600db041b4cc1c87a884063126e29a3bfd540ed5196fb"
   }
  }
 },
 "nbformat": 4,
 "nbformat_minor": 1
}
