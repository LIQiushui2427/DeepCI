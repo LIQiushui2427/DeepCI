{
 "cells": [
  {
   "cell_type": "code",
   "execution_count": null,
   "metadata": {},
   "outputs": [],
   "source": [
    "%load_ext autoreload\n",
    "%autoreload 2\n",
    "import warnings\n",
    "warnings.simplefilter('ignore')\n",
    "%matplotlib inline"
   ]
  },
  {
   "cell_type": "code",
   "execution_count": null,
   "metadata": {},
   "outputs": [],
   "source": [
    "import numpy as np\n",
    "import matplotlib.pyplot as plt\n",
    "from sklearn.linear_model import LinearRegression\n",
    "from sklearn.metrics.pairwise import rbf_kernel\n",
    "from mliv.dgps import get_data, get_tau_fn, fn_dict\n",
    "from mliv.rkhs import RKHSIV, RKHSIVCV, ApproxRKHSIV, ApproxRKHSIVCV"
   ]
  },
  {
   "cell_type": "code",
   "execution_count": null,
   "metadata": {},
   "outputs": [],
   "source": [
    "def plot_est_vs_true(est, ind, T_test, T_train, true_fn, fn_name=None):\n",
    "    plt.plot(T_test[:, ind], est.predict(T_test), label='est')\n",
    "    plt.plot(T_test[:, ind], true_fn(T_test), '--', label='true')\n",
    "    RMSE = np.sqrt(np.mean((est.predict(T_train).flatten() - true_fn(T_train).flatten())**2))\n",
    "    R2 = 1 - RMSE**2 / np.var(true_fn(T_train).flatten())\n",
    "    plt.title(\"RMSE on Train: {:.3f}, \"\n",
    "              \"R2 on train: {:.2f}\".format(RMSE, R2))\n",
    "    plt.legend()\n",
    "    if fn_name is not None:\n",
    "        plt.savefig('{}_rkhs.png'.format(fn_name))\n",
    "    plt.show()"
   ]
  },
  {
   "cell_type": "markdown",
   "metadata": {},
   "source": [
    "# Data Generation"
   ]
  },
  {
   "cell_type": "code",
   "execution_count": null,
   "metadata": {},
   "outputs": [],
   "source": [
    "n = 1000\n",
    "n_z = 3\n",
    "n_t = 3\n",
    "iv_strength = .6\n",
    "fname = 'abs'\n",
    "dgp_num = 5\n",
    "Z, T, Y, true_fn = get_data(n, n_z, iv_strength, get_tau_fn(fn_dict[fname]), dgp_num)"
   ]
  },
  {
   "cell_type": "code",
   "execution_count": null,
   "metadata": {},
   "outputs": [],
   "source": [
    "ind = 0\n",
    "x_grid = np.linspace(np.quantile(T[:, ind], .01), np.quantile(T[:, ind], .99), 100)\n",
    "T_test = np.zeros((100, T.shape[1])) + np.median(T, axis=0, keepdims=True)\n",
    "T_test[:, ind] = x_grid"
   ]
  },
  {
   "cell_type": "code",
   "execution_count": null,
   "metadata": {},
   "outputs": [],
   "source": [
    "plt.figure(figsize=(10,3))\n",
    "plt.subplot(1, 2, 1)\n",
    "plt.scatter(Z[:, 0], Y)\n",
    "plt.subplot(1, 2, 2)\n",
    "plt.scatter(T[:, 0], Y)\n",
    "plt.plot(T[np.argsort(T[:, 0]), 0], true_fn(T[np.argsort(T[:, 0])]))\n",
    "plt.show()"
   ]
  },
  {
   "cell_type": "markdown",
   "metadata": {},
   "source": [
    "# Visualization of Strength of Instrument Based on Kernel"
   ]
  },
  {
   "cell_type": "code",
   "execution_count": null,
   "metadata": {},
   "outputs": [],
   "source": [
    "Kf = rbf_kernel(Z, gamma=2)\n",
    "plt.imshow(Kf)\n",
    "plt.show()"
   ]
  },
  {
   "cell_type": "markdown",
   "metadata": {},
   "source": [
    "# Vanilla Benchmarks: OLS and 2SLS"
   ]
  },
  {
   "cell_type": "code",
   "execution_count": null,
   "metadata": {},
   "outputs": [],
   "source": [
    "LinearRegression().fit(T, Y).coef_"
   ]
  },
  {
   "cell_type": "code",
   "execution_count": null,
   "metadata": {},
   "outputs": [],
   "source": [
    "LinearRegression().fit(LinearRegression().fit(Z, T).predict(Z), Y).coef_"
   ]
  },
  {
   "cell_type": "markdown",
   "metadata": {},
   "source": [
    "# RKHSIV "
   ]
  },
  {
   "cell_type": "code",
   "execution_count": null,
   "metadata": {},
   "outputs": [],
   "source": [
    "kernel = 'rbf'\n",
    "delta_scale = 'auto'\n",
    "delta_exp = .4\n",
    "gamma = .1\n",
    "alpha_scale = 'auto'\n",
    "alpha_scales = np.geomspace(1, 10000, 10)\n",
    "cv = 5"
   ]
  },
  {
   "cell_type": "code",
   "execution_count": null,
   "metadata": {},
   "outputs": [],
   "source": [
    "est = RKHSIV(kernel=kernel, gamma=gamma, delta_scale=delta_scale,\n",
    "             delta_exp=delta_exp, alpha_scale=alpha_scale).fit(Z, T, Y)\n",
    "\n",
    "plot_est_vs_true(est, 0, T_test, T, true_fn)"
   ]
  },
  {
   "cell_type": "markdown",
   "metadata": {},
   "source": [
    "### RKHSIV with CV Estimated Hyperparams"
   ]
  },
  {
   "cell_type": "code",
   "execution_count": null,
   "metadata": {},
   "outputs": [],
   "source": [
    "est = RKHSIVCV(kernel=kernel, gamma=gamma, delta_scale=delta_scale,\n",
    "               delta_exp=delta_exp, alpha_scales=alpha_scales, cv=cv).fit(Z, T, Y)\n",
    "\n",
    "plot_est_vs_true(est, 0, T_test, T, true_fn)"
   ]
  },
  {
   "cell_type": "code",
   "execution_count": null,
   "metadata": {},
   "outputs": [],
   "source": [
    "plt.title(\"Best alpha: {:.3f}\".format(est.alpha_scales[np.argmin(est.avg_scores)]))\n",
    "plt.scatter(est.alpha_scales, est.avg_scores)\n",
    "plt.show()"
   ]
  },
  {
   "cell_type": "markdown",
   "metadata": {},
   "source": [
    "### Oracle Hyperparameter Tuning"
   ]
  },
  {
   "cell_type": "code",
   "execution_count": null,
   "metadata": {},
   "outputs": [],
   "source": [
    "scores = []\n",
    "for t in alpha_scales:\n",
    "    est = RKHSIV(kernel, gamma=gamma, delta_scale=delta_scale,\n",
    "                 delta_exp=delta_exp, alpha_scale=t).fit(Z, T, Y)\n",
    "    scores.append(np.sqrt(np.mean((est.predict(T) - true_fn(T))**2)))"
   ]
  },
  {
   "cell_type": "code",
   "execution_count": null,
   "metadata": {},
   "outputs": [],
   "source": [
    "plt.title(\"Best alpha: {:.3f}\".format(alpha_scales[np.argmin(scores)]))\n",
    "plt.scatter(alpha_scales, scores)\n",
    "plt.show()"
   ]
  },
  {
   "cell_type": "code",
   "execution_count": null,
   "metadata": {},
   "outputs": [],
   "source": [
    "est = RKHSIV(kernel=kernel, gamma=gamma, delta_scale=delta_scale,\n",
    "             delta_exp=delta_exp, alpha_scale=alpha_scales[np.argmin(scores)]).fit(Z, T, Y)\n",
    "\n",
    "plot_est_vs_true(est, 0, T_test, T, true_fn)"
   ]
  },
  {
   "cell_type": "markdown",
   "metadata": {},
   "source": [
    "# Nystrom Approx\n",
    "\n",
    "If we assume that $K_z = U U'$ and $K_x= V V'$, then we first we observe that we can express the solution to the inner maximization problem as:\n",
    "\\begin{align}\n",
    "\\psi_n' U \\left(\\frac{1}{2n\\delta^2}U'U + \\frac{1}{2H}\\right)^{-1} U'\\psi_n\n",
    "\\end{align}\n",
    "Let:\n",
    "\\begin{align}\n",
    "Q = \\left(\\frac{1}{2n\\delta^2}U'U + \\frac{1}{2H} I\\right)^{-1}\n",
    "\\end{align}\n",
    "can show that we can express the solution in terms of $\\gamma=V'a$ and such that $\\gamma$ must solve:\n",
    "\\begin{align}\n",
    "VV'\\left(\\left(U Q U' V + \\lambda I) \\gamma - UQU'y\\right)\\right) = 0\n",
    "\\end{align}\n",
    "Or equivalently:\n",
    "\\begin{align}\n",
    "V\\left(\\left(V'U Q U' V + \\lambda I) \\gamma - V'UQU'y\\right)\\right) = 0\n",
    "\\end{align}\n",
    "Letting $A=V'U$, then we have that this is equivalent to:\n",
    "\\begin{align}\n",
    "\\gamma = (A Q A' + \\lambda I)^{-1} A Q U'y\n",
    "\\end{align}\n",
    "Then we can also solve for $a$ via: $V'a = \\gamma \\implies a = V^+\\gamma$. \n",
    "\n",
    "However, typically we can express $h(x)$ as:\n",
    "\\begin{align}\n",
    "h(x) = v_x' V'a = v_x' \\gamma\n",
    "\\end{align}\n",
    "where $v_x$ is a vector that corresponds to the feature map of a nystrom approximation for a target $x$, i.e.\n",
    "\\begin{align}\n",
    "(K(x_1, x), \\ldots, K(x_n, x)) =  V \\phi(x)\n",
    "\\end{align}\n",
    "such that $h(x) = \\phi(x)' V' a = \\phi(x)' \\gamma$. All these calculations require time of the order of $n_\\text{samples} \\times n_\\text{nystrom components}^2$"
   ]
  },
  {
   "cell_type": "code",
   "execution_count": null,
   "metadata": {},
   "outputs": [],
   "source": [
    "kernel_approx = 'nystrom'\n",
    "n_components = 500"
   ]
  },
  {
   "cell_type": "code",
   "execution_count": null,
   "metadata": {},
   "outputs": [],
   "source": [
    "est = ApproxRKHSIV(kernel_approx=kernel_approx, n_components=n_components,\n",
    "                    kernel=kernel, gamma=gamma, delta_scale=delta_scale,\n",
    "                    delta_exp=delta_exp, alpha_scale=alpha_scale).fit(Z, T, Y)\n",
    "\n",
    "plot_est_vs_true(est, 0, T_test, T, true_fn)"
   ]
  },
  {
   "cell_type": "markdown",
   "metadata": {},
   "source": [
    "### Nystrom with CV Hyperparameter Tuning"
   ]
  },
  {
   "cell_type": "code",
   "execution_count": null,
   "metadata": {},
   "outputs": [],
   "source": [
    "est = ApproxRKHSIVCV(kernel_approx=kernel_approx, n_components=n_components,\n",
    "                      kernel=kernel, gamma=gamma, delta_scale=delta_scale,\n",
    "                      delta_exp=delta_exp, alpha_scales=alpha_scales, cv=cv).fit(Z, T, Y)\n",
    "\n",
    "plot_est_vs_true(est, 0, T_test, T, true_fn)"
   ]
  },
  {
   "cell_type": "code",
   "execution_count": null,
   "metadata": {},
   "outputs": [],
   "source": [
    "plt.title(\"Best alpha scale: {:.3f}\".format(est.alpha_scales[np.argmin(est.avg_scores)]))\n",
    "plt.scatter(est.alpha_scales, est.avg_scores)\n",
    "plt.show()"
   ]
  },
  {
   "cell_type": "code",
   "execution_count": null,
   "metadata": {},
   "outputs": [],
   "source": [
    "est.best_alpha"
   ]
  },
  {
   "cell_type": "markdown",
   "metadata": {},
   "source": [
    "### Random Fourier Features Approx\n",
    "\n",
    "Same as Nystrom, but instead of choosing random points it chooses random fourier features to approximate the kernel"
   ]
  },
  {
   "cell_type": "code",
   "execution_count": null,
   "metadata": {},
   "outputs": [],
   "source": [
    "kernel_approx = 'rbfsampler'\n",
    "n_components = 200"
   ]
  },
  {
   "cell_type": "code",
   "execution_count": null,
   "metadata": {},
   "outputs": [],
   "source": [
    "est = ApproxRKHSIV(kernel_approx=kernel_approx, n_components=n_components,\n",
    "                    kernel=kernel, gamma=gamma, delta_scale=delta_scale,\n",
    "                    delta_exp=delta_exp, alpha_scale=alpha_scale).fit(Z, T, Y)\n",
    "\n",
    "plot_est_vs_true(est, 0, T_test, T, true_fn)"
   ]
  },
  {
   "cell_type": "code",
   "execution_count": null,
   "metadata": {},
   "outputs": [],
   "source": [
    "est = ApproxRKHSIVCV(kernel_approx=kernel_approx, n_components=n_components,\n",
    "                      kernel=kernel, gamma=gamma, delta_scale=delta_scale,\n",
    "                      delta_exp=delta_exp, alpha_scales=alpha_scales, cv=cv).fit(Z, T, Y)\n",
    "\n",
    "plot_est_vs_true(est, 0, T_test, T, true_fn)"
   ]
  },
  {
   "cell_type": "code",
   "execution_count": null,
   "metadata": {},
   "outputs": [],
   "source": []
  }
 ],
 "metadata": {
  "colab": {
   "collapsed_sections": [],
   "name": "RkhsExamples.ipynb",
   "provenance": []
  },
  "kernelspec": {
   "display_name": "Python 3",
   "language": "python",
   "name": "python3"
  },
  "language_info": {
   "codemirror_mode": {
    "name": "ipython",
    "version": 3
   },
   "file_extension": ".py",
   "mimetype": "text/x-python",
   "name": "python",
   "nbconvert_exporter": "python",
   "pygments_lexer": "ipython3",
   "version": "3.7.4"
  }
 },
 "nbformat": 4,
 "nbformat_minor": 1
}
