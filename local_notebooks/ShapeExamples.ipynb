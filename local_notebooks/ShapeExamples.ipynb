{
 "cells": [
  {
   "cell_type": "code",
   "execution_count": null,
   "metadata": {},
   "outputs": [],
   "source": [
    "%load_ext autoreload\n",
    "%autoreload 2\n",
    "import warnings\n",
    "warnings.simplefilter('ignore')"
   ]
  },
  {
   "cell_type": "code",
   "execution_count": null,
   "metadata": {},
   "outputs": [],
   "source": [
    "from sklearn.linear_model import LinearRegression\n",
    "import numpy as np\n",
    "from mliv.shape import ShapeIV, LipschitzShapeIV\n",
    "from mliv.shape.curve_fit import project_convex_lip\n",
    "import matplotlib.pyplot as plt\n",
    "from sklearn.isotonic import IsotonicRegression"
   ]
  },
  {
   "cell_type": "code",
   "execution_count": null,
   "metadata": {},
   "outputs": [],
   "source": [
    "def plot_est_vs_true(est, ind, T_test, T_train, true_fn, fname=None):\n",
    "    sort_inds = np.argsort(T_test[:, ind])\n",
    "    plt.plot(T_test[sort_inds, ind], est.predict(T_test[sort_inds]), label='est')\n",
    "    plt.plot(T_test[sort_inds, ind], true_fn(T_test[sort_inds]), '--', label='true')\n",
    "    RMSE = np.sqrt(np.mean((est.predict(T_train).flatten() - true_fn(T_train).flatten())**2))\n",
    "    R2 = 1 - RMSE**2 / np.var(true_fn(T_train).flatten())\n",
    "    plt.title(\"RMSE on Train: {:.3f}, \"\n",
    "              \"R2 on train: {:.2f}\".format(RMSE, R2))\n",
    "    plt.legend()\n",
    "    if fname is not None:\n",
    "        plt.savefig(fname)\n",
    "    plt.show()"
   ]
  },
  {
   "cell_type": "markdown",
   "metadata": {},
   "source": [
    "# ShapeIV  Small TV"
   ]
  },
  {
   "cell_type": "code",
   "execution_count": null,
   "metadata": {},
   "outputs": [],
   "source": [
    "a = .4\n",
    "theta = .2\n",
    "n_z = 1\n",
    "\n",
    "def true_fn(T):\n",
    "    return np.abs(T[:, [0]])\n",
    "\n",
    "n = 2000\n",
    "Z = np.random.normal(0, 2, size=(n, n_z))\n",
    "U = np.random.normal(0, 2, size=(n, 1))\n",
    "delta = np.random.normal(0, .1, size=(n, 1))\n",
    "zeta = np.random.normal(0, .1, size=(n, 1))\n",
    "T = (1 - a) * Z + a * U + delta\n",
    "Y = true_fn(T) + U + zeta\n",
    "\n",
    "x_grid = np.linspace(np.quantile(T[:, 0], .01), np.quantile(T[:, 0], .99), 100)\n",
    "T_test = np.zeros((100, n_z))\n",
    "T_test[:, 0] = x_grid\n",
    "\n",
    "plt.figure(figsize=(10,3))\n",
    "plt.subplot(1, 2, 1)\n",
    "plt.scatter(Z[:, 0], Y)\n",
    "plt.subplot(1, 2, 2)\n",
    "plt.scatter(T[:, 0], Y)\n",
    "plt.plot(T[np.argsort(T[:, 0]), 0], true_fn(T[np.argsort(T[:, 0])]))\n",
    "plt.show()"
   ]
  },
  {
   "cell_type": "code",
   "execution_count": null,
   "metadata": {},
   "outputs": [],
   "source": [
    "n_iter = 1000\n",
    "eta_theta = 2/np.sqrt(n_iter)\n",
    "eta_w = 2/np.sqrt(n_iter)\n",
    "y_min = 0\n",
    "y_max = 5\n",
    "lambda_w = 2"
   ]
  },
  {
   "cell_type": "code",
   "execution_count": null,
   "metadata": {},
   "outputs": [],
   "source": [
    "est = ShapeIV(n_iter=n_iter, eta_theta=eta_theta, eta_w=eta_w,\n",
    "                 y_min=y_min, y_max=y_max, lambda_w=lambda_w).fit(Z, T, Y)\n",
    "\n",
    "plot_est_vs_true(est, 0, T_test, T, true_fn)"
   ]
  },
  {
   "cell_type": "code",
   "execution_count": null,
   "metadata": {},
   "outputs": [],
   "source": [
    "est = LipschitzShapeIV(L=None, convexity=None, n_iter=n_iter, eta_theta=eta_theta, eta_w=eta_w,\n",
    "                       y_min=y_min, y_max=y_max, lambda_w=lambda_w,\n",
    "                       n_projection_subsamples=50, max_projection_iters=100).fit(Z, T, Y)\n",
    "\n",
    "plot_est_vs_true(est, 0, T_test, T, true_fn)"
   ]
  },
  {
   "cell_type": "markdown",
   "metadata": {},
   "source": [
    "### Adding Lipschitz constraint"
   ]
  },
  {
   "cell_type": "code",
   "execution_count": null,
   "metadata": {},
   "outputs": [],
   "source": [
    "n_iter = 1000\n",
    "eta_theta = 2/np.sqrt(n_iter)\n",
    "eta_w = 2/np.sqrt(n_iter)\n",
    "y_min = -5\n",
    "y_max = 5\n",
    "lambda_w = 2"
   ]
  },
  {
   "cell_type": "code",
   "execution_count": null,
   "metadata": {},
   "outputs": [],
   "source": [
    "est = LipschitzShapeIV(L=1, convexity=None, n_iter=n_iter, eta_theta=eta_theta, eta_w=eta_w,\n",
    "                       y_min=y_min, y_max=y_max, lambda_w=lambda_w,\n",
    "                       n_projection_subsamples=50, max_projection_iters=100).fit(Z, T, Y)\n",
    "\n",
    "plot_est_vs_true(est, 0, T_test, T, true_fn)"
   ]
  },
  {
   "cell_type": "markdown",
   "metadata": {},
   "source": [
    "### Adding Lipschitz and Convex Constraint"
   ]
  },
  {
   "cell_type": "code",
   "execution_count": null,
   "metadata": {},
   "outputs": [],
   "source": [
    "est = LipschitzShapeIV(L=1, convexity='convex', n_iter=n_iter, eta_theta=eta_theta, eta_w=eta_w,\n",
    "                       y_min=y_min, y_max=y_max, lambda_w=lambda_w,\n",
    "                       n_projection_subsamples=50, max_projection_iters=20).fit(Z, T, Y)\n",
    "\n",
    "plot_est_vs_true(est, 0, T_test, T, true_fn)"
   ]
  },
  {
   "cell_type": "code",
   "execution_count": null,
   "metadata": {},
   "outputs": [],
   "source": [
    "plt.plot(T[np.argsort(T[:,0]), 0], project_convex_lip(T, Y, convexity='convex', ymin=y_min, ymax=y_max,\n",
    "                                                      monotone=None, L=1, n_subsamples=50)[np.argsort(T[:,0])],\n",
    "         '--',\n",
    "         label='y ~ x')\n",
    "plt.plot(T[np.argsort(T[:,0]), 0], est.predict(T[np.argsort(T[:,0])]), label='est')\n",
    "plt.plot(T[np.argsort(T[:,0]), 0], true_fn(T[np.argsort(T[:,0])]), '--', label='true')\n",
    "plt.title(\"RMSE on Train: {:.3f}\".format(np.sqrt(np.mean((est.predict(T).flatten()\\\n",
    "                                                              - true_fn(T).flatten())**2))))\n",
    "plt.legend()\n",
    "plt.show()"
   ]
  },
  {
   "cell_type": "code",
   "execution_count": null,
   "metadata": {},
   "outputs": [],
   "source": [
    "1 - np.mean((est.predict(T_test).flatten() - true_fn(T_test).flatten())**2)/np.var(true_fn(T_test))"
   ]
  },
  {
   "cell_type": "markdown",
   "metadata": {},
   "source": [
    "# ShapeIV Concave"
   ]
  },
  {
   "cell_type": "code",
   "execution_count": null,
   "metadata": {},
   "outputs": [],
   "source": [
    "a = .5\n",
    "theta = .2\n",
    "n_z = 1\n",
    "\n",
    "def true_fn(T):\n",
    "    return -np.abs(T[:, [0]])\n",
    "\n",
    "n = 1000\n",
    "Z = np.random.normal(0, 2, size=(n, n_z))\n",
    "U = np.random.normal(0, 2, size=(n, 1))\n",
    "delta = np.random.normal(0, .1, size=(n, 1))\n",
    "zeta = np.random.normal(0, .1, size=(n, 1))\n",
    "T = (1 - a) * Z + a * U + delta\n",
    "Y = true_fn(T) + U + zeta\n",
    "\n",
    "x_grid = np.linspace(np.quantile(T[:, 0], .01), np.quantile(T[:, 0], .99), 100)\n",
    "T_test = np.zeros((100, n_z))\n",
    "T_test[:, 0] = x_grid\n",
    "\n",
    "plt.figure(figsize=(10,3))\n",
    "plt.subplot(1, 2, 1)\n",
    "plt.scatter(Z[:, 0], Y)\n",
    "plt.subplot(1, 2, 2)\n",
    "plt.scatter(T[:, 0], Y)\n",
    "plt.plot(T[np.argsort(T[:, 0]), 0], true_fn(T[np.argsort(T[:, 0])]))\n",
    "plt.show()"
   ]
  },
  {
   "cell_type": "code",
   "execution_count": null,
   "metadata": {},
   "outputs": [],
   "source": [
    "n_iter = 5000\n",
    "eta_theta = 2/np.sqrt(n_iter)\n",
    "eta_w = 2/np.sqrt(n_iter)\n",
    "y_min = -5\n",
    "y_max = 1\n",
    "lambda_w = 2\n",
    "\n",
    "est = LipschitzShapeIV(L=1, convexity='concave', n_iter=n_iter, eta_theta=eta_theta, eta_w=eta_w,\n",
    "                       y_min=y_min, y_max=y_max, lambda_w=lambda_w,\n",
    "                       n_projection_subsamples=50, max_projection_iters=20).fit(Z, T, Y)\n",
    "\n",
    "plot_est_vs_true(est, 0, T_test, T, true_fn)"
   ]
  },
  {
   "cell_type": "code",
   "execution_count": null,
   "metadata": {},
   "outputs": [],
   "source": [
    "plt.plot(T[np.argsort(T[:,0]), 0], project_convex_lip(T, Y, convexity='concave',\n",
    "                                                      monotone=None, L=1, n_subsamples=50)[np.argsort(T[:,0])])\n",
    "plt.plot(T[np.argsort(T[:,0]), 0], est.predict(T[np.argsort(T[:,0])]))\n",
    "plt.plot(T[np.argsort(T[:,0]), 0], true_fn(T[np.argsort(T[:,0])]))\n",
    "plt.show()"
   ]
  },
  {
   "cell_type": "markdown",
   "metadata": {},
   "source": [
    "# ShapeIV Increasing"
   ]
  },
  {
   "cell_type": "code",
   "execution_count": null,
   "metadata": {},
   "outputs": [],
   "source": [
    "a = .4\n",
    "theta = .2\n",
    "n_z = 1\n",
    "\n",
    "def true_fn(T):\n",
    "    return (T[:, [0]]**2/2) * (T[:, [0]]>0) \n",
    "\n",
    "n = 1000\n",
    "Z = np.random.normal(0, 2, size=(n, n_z))\n",
    "U = np.random.normal(0, 2, size=(n, 1))\n",
    "delta = np.random.normal(0, .1, size=(n, 1))\n",
    "zeta = np.random.normal(0, .1, size=(n, 1))\n",
    "T = (1 - a) * Z + a * U + delta\n",
    "Y = true_fn(T) + U + zeta\n",
    "\n",
    "x_grid = np.linspace(np.quantile(T[:, 0], .05), np.quantile(T[:, 0], .95), 100)\n",
    "T_test = np.zeros((100, n_z))\n",
    "T_test[:, 0] = x_grid\n",
    "\n",
    "plt.figure(figsize=(10,3))\n",
    "plt.subplot(1, 2, 1)\n",
    "plt.scatter(Z[:, 0], Y)\n",
    "plt.subplot(1, 2, 2)\n",
    "plt.scatter(T[:, 0], Y)\n",
    "plt.plot(T[np.argsort(T[:, 0]), 0], true_fn(T[np.argsort(T[:, 0])]))\n",
    "plt.show()"
   ]
  },
  {
   "cell_type": "code",
   "execution_count": null,
   "metadata": {},
   "outputs": [],
   "source": [
    "iso = IsotonicRegression(y_min=-5, y_max=10, increasing=True).fit(T.flatten(), Y.flatten())\n",
    "plt.plot(T_test.flatten(), iso.predict(T_test.flatten()), label='est')\n",
    "plt.plot(T_test.flatten(), true_fn(T_test), '--', label='true')\n",
    "RMSE = np.sqrt(np.mean((iso.predict(T.flatten()) - true_fn(T).flatten())**2))\n",
    "R2 = 1 - RMSE**2 / np.var(true_fn(T).flatten())\n",
    "plt.title(\"RMSE on Train: {:.3f}, \"\n",
    "              \"R2 on train: {:.2f}\".format(RMSE, R2))\n",
    "plt.legend()\n",
    "plt.savefig('iso_direct.png')\n",
    "plt.show()"
   ]
  },
  {
   "cell_type": "code",
   "execution_count": null,
   "metadata": {},
   "outputs": [],
   "source": [
    "n_iter = 1000\n",
    "eta_theta = .05\n",
    "eta_w = .05\n",
    "lambda_w = 2"
   ]
  },
  {
   "cell_type": "code",
   "execution_count": null,
   "metadata": {},
   "outputs": [],
   "source": [
    "est = ShapeIV(n_iter=n_iter, eta_theta=eta_theta, eta_w=eta_w,\n",
    "                 y_min=-5, y_max=10, lambda_w=lambda_w,\n",
    "                 monotonic='increasing').fit(Z, T, Y)\n",
    "\n",
    "plot_est_vs_true(est, 0, T_test, T, true_fn, fname='iso_iv.png')"
   ]
  },
  {
   "cell_type": "code",
   "execution_count": null,
   "metadata": {},
   "outputs": [],
   "source": [
    "est = LipschitzShapeIV(L=8, convexity=None, n_iter=100, eta_theta=eta_theta, eta_w=eta_w,\n",
    "                       y_min=-5, y_max=10, lambda_w=lambda_w, monotonic='increasing',\n",
    "                       n_projection_subsamples=50, max_projection_iters=20)\n",
    "est.fit(Z, T, Y)\n",
    "\n",
    "plot_est_vs_true(est, 0, T_test, T, true_fn, fname='iso_lip_iv.png')"
   ]
  },
  {
   "cell_type": "markdown",
   "metadata": {},
   "source": [
    "# ShapeIV Decreasing"
   ]
  },
  {
   "cell_type": "code",
   "execution_count": null,
   "metadata": {},
   "outputs": [],
   "source": [
    "a = .5\n",
    "endog_strenth = 2\n",
    "n_z = 1\n",
    "\n",
    "def true_fn(T):\n",
    "    return np.abs(T[:, [0]]) * (T[:, [0]]<0)\n",
    "\n",
    "n = 100\n",
    "Z = np.random.normal(0, 2, size=(n, n_z))\n",
    "U = np.random.normal(0, .5, size=(n, 1))\n",
    "T = a*Z + U\n",
    "Y = true_fn(T) - endog_strenth*U\n",
    "\n",
    "x_grid = np.linspace(np.quantile(T[:, 0], .05), np.quantile(T[:, 0], .95), 100)\n",
    "T_test = np.zeros((100, n_z))\n",
    "T_test[:, 0] = x_grid\n",
    "\n",
    "plt.figure(figsize=(10,3))\n",
    "plt.subplot(1, 2, 1)\n",
    "plt.scatter(Z[:, 0], Y)\n",
    "plt.subplot(1, 2, 2)\n",
    "plt.scatter(T[:, 0], Y)\n",
    "plt.plot(T[np.argsort(T[:, 0]), 0], true_fn(T[np.argsort(T[:, 0])]))\n",
    "plt.show()\n",
    "\n",
    "np.mean(true_fn(T))"
   ]
  },
  {
   "cell_type": "code",
   "execution_count": null,
   "metadata": {},
   "outputs": [],
   "source": [
    "iso = IsotonicRegression(y_min=0, y_max=4, increasing=False, out_of_bounds='clip').fit(T.flatten(), Y.flatten())\n",
    "plt.plot(T_test.flatten(), iso.predict(T_test.flatten()), label='est')\n",
    "plt.plot(T_test.flatten(), true_fn(T_test), '--', label='true')\n",
    "plt.title(\"RMSE on Train: {:.3f}\".format(np.sqrt(np.mean((iso.predict(T.flatten()) - true_fn(T).flatten())**2))))\n",
    "plt.legend()\n",
    "plt.show()\n",
    "np.mean(iso.predict(T.flatten()))"
   ]
  },
  {
   "cell_type": "code",
   "execution_count": null,
   "metadata": {},
   "outputs": [],
   "source": [
    "n_iter = 1000\n",
    "eta_theta = .1\n",
    "eta_w = .1\n",
    "lambda_w = 2"
   ]
  },
  {
   "cell_type": "code",
   "execution_count": null,
   "metadata": {},
   "outputs": [],
   "source": [
    "est = ShapeIV(n_iter=n_iter, eta_theta=eta_theta, eta_w=eta_w,\n",
    "                 y_min=0, y_max=4, lambda_w=lambda_w,\n",
    "                 monotonic='decreasing').fit(Z, T, Y)\n",
    "\n",
    "plot_est_vs_true(est, 0, T_test, T, true_fn)"
   ]
  },
  {
   "cell_type": "markdown",
   "metadata": {},
   "source": [
    "### Adding Convexity and Lipschitz Constraints"
   ]
  },
  {
   "cell_type": "code",
   "execution_count": null,
   "metadata": {},
   "outputs": [],
   "source": [
    "est = LipschitzShapeIV(L=4, convexity='convex', n_iter=n_iter, eta_theta=eta_theta, eta_w=eta_w,\n",
    "                       y_min=0, y_max=4, lambda_w=lambda_w, monotonic='decreasing',\n",
    "                       n_projection_subsamples=50, max_projection_iters=20).fit(Z, T, Y)\n",
    "\n",
    "plot_est_vs_true(est, 0, T_test, T, true_fn)"
   ]
  },
  {
   "cell_type": "code",
   "execution_count": null,
   "metadata": {},
   "outputs": [],
   "source": [
    "def proj_true_fn(z):\n",
    "    U = np.random.uniform(-.2, .2, size=(n, 1, 100))\n",
    "    return np.mean([true_fn(a*z + U[:, :, i]) for i in range(100)], axis=0)\n",
    "def est_proj_true_fn(z):\n",
    "    T = a*z.reshape(n, -1, 1) + np.random.uniform(-.2, .2, size=(n, 1, 100))\n",
    "    return np.mean([est.predict(T[:, :, i]) for i in range(100)], axis=0)\n",
    "\n",
    "plt.figure(figsize=(6,6))\n",
    "plt.plot(Z[np.argsort(Z[:, 0]), 0], proj_true_fn(Z[np.argsort(Z[:, 0])]), label='Th0')\n",
    "plt.plot(Z[np.argsort(Z[:, 0]), 0], est_proj_true_fn(Z[np.argsort(Z[:, 0])]), label='Th')\n",
    "plt.plot(Z[np.argsort(Z[:, 0]), 0], est.predict(Z[np.argsort(Z[:, 0])]), label='h')\n",
    "plt.plot(Z[np.argsort(Z[:, 0]), 0], true_fn(Z[np.argsort(Z[:, 0])]), label='h0')\n",
    "plt.plot(Z[np.argsort(Z[:, 0]), 0], LinearRegression().fit(T, Y).predict(Z[np.argsort(Z[:, 0])]), label='lr')\n",
    "plt.plot(Z[np.argsort(Z[:, 0]), 0], iso.predict(Z[np.argsort(Z[:, 0]), 0]), label='iso')\n",
    "plt.legend()\n",
    "plt.show()"
   ]
  },
  {
   "cell_type": "code",
   "execution_count": null,
   "metadata": {},
   "outputs": [],
   "source": [
    "\n"
   ]
  }
 ],
 "metadata": {
  "kernelspec": {
   "display_name": "Python 3",
   "language": "python",
   "name": "python3"
  },
  "language_info": {
   "codemirror_mode": {
    "name": "ipython",
    "version": 3
   },
   "file_extension": ".py",
   "mimetype": "text/x-python",
   "name": "python",
   "nbconvert_exporter": "python",
   "pygments_lexer": "ipython3",
   "version": "3.7.4"
  }
 },
 "nbformat": 4,
 "nbformat_minor": 2
}
