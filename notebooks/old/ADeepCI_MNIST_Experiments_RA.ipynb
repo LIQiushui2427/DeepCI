{
 "cells": [
  {
   "cell_type": "code",
   "execution_count": null,
   "metadata": {},
   "outputs": [],
   "source": [
    "%load_ext nb_black"
   ]
  },
  {
   "cell_type": "code",
   "execution_count": 1,
   "metadata": {},
   "outputs": [],
   "source": [
    "### Magic functions\n",
    "%load_ext autoreload\n",
    "%autoreload 2\n",
    "%load_ext tensorboard\n",
    "%matplotlib inline"
   ]
  },
  {
   "cell_type": "markdown",
   "metadata": {},
   "source": [
    "## Generating Data"
   ]
  },
  {
   "cell_type": "code",
   "execution_count": 1,
   "metadata": {},
   "outputs": [],
   "source": [
    "#import \n",
    "\n",
    "seedNum = 888\n",
    "import tensorflow as tf\n",
    "tf.random.set_seed(seedNum)\n",
    "from tensorflow.keras.datasets import mnist\n",
    "import numpy as np\n",
    "np.random.seed(seedNum)\n",
    "import random\n",
    "import matplotlib.pyplot as plt\n",
    "\n",
    "from tensorflow import keras\n",
    "from datetime import datetime\n",
    "import time\n",
    "from tqdm import tqdm\n",
    "\n",
    "import torch\n",
    "\n",
    "#import autokeras as ak\n",
    "#import keras_tuner as kt\n",
    "\n",
    "\n",
    "#load data\n",
    "(X_train, y_train), (X_test, y_test) = mnist.load_data()\n",
    "(example_X_train,example_y_train) = (X_train[:2000], y_train[:2000])\n",
    "(example_X_test,example_y_test) = (X_test[:2000], y_test[:2000])\n"
   ]
  },
  {
   "cell_type": "code",
   "execution_count": 2,
   "metadata": {},
   "outputs": [],
   "source": [
    "eta = np.random.choice(np.arange(start=0.0, stop=10.0, step=1.0))\n",
    "\n",
    "def ej_func(ej):\n",
    "  eta = np.random.choice(np.arange(start=0.0, stop=1.0, step=0.01))\n",
    "  if eta == 1.0:\n",
    "    return np.log(ej)\n",
    "  else:\n",
    "    return (np.power(ej,1-eta)-1)/(1-eta)"
   ]
  },
  {
   "cell_type": "code",
   "execution_count": 3,
   "metadata": {},
   "outputs": [],
   "source": [
    "a = y_train\n",
    "b = X_train\n",
    "\n",
    "sample = np.array(random.sample(list(np.arange(a.shape[0])),6+1)) # a list of index\n",
    "sample = np.expand_dims(sample, axis=1)\n",
    "ej = np.concatenate([a[i] for i in sample],axis = None) # a list of number on images"
   ]
  },
  {
   "cell_type": "code",
   "execution_count": 4,
   "metadata": {},
   "outputs": [],
   "source": [
    "def Simdata(NUM_I,seed,a,b,rho): #a = y_train/test, b = X_train/test\n",
    "    np.random.seed(seed)\n",
    "    pa = [] #product a, which is product chosen by customer a, but unchosen by paired customer b\n",
    "    pb = [] #product b, which is product unchosen by customer a, but chosen by paired customer b\n",
    "    ea = []\n",
    "    eb = []\n",
    "    \n",
    "    #price_a = []\n",
    "    #price_b = []\n",
    "    \n",
    "    ca_type = []  #customer a type\n",
    "    cb_type = []  #customer b type\n",
    "    \n",
    "    g_ca_pa = [] #g funtion in utility function, which -z_a*price_product_a\n",
    "    g_ca_pb = [] #g funtion in utility function, which -z_a*price_product_b\n",
    "    g_cb_pa = []\n",
    "    g_cb_pb = []\n",
    "    \n",
    "    for i in tqdm(range(0,NUM_I)):\n",
    "        J = np.random.randint(2,10) # number of choice\n",
    "        sample = np.array(random.sample(list(np.arange(a.shape[0])),J+1)) # a list of index\n",
    "        sample = np.expand_dims(sample, axis=1)\n",
    "\n",
    "        za = np.random.choice(np.arange(start=-10.1, stop=10.1, step=0.1)) # customer type\n",
    "        zb = -np.random.choice(np.arange(start=-10.1, stop=10.1, step=0.1)) # customer type\n",
    "        # print('z0')\n",
    "        # print(za)\n",
    "        # print('z1')\n",
    "        # print(zb)\n",
    "        ej = np.concatenate([a[i] for i in sample],axis = None) # a list of number on images\n",
    "        ej = [i for i in ej.tolist()]\n",
    "        ej = np.float_(ej)\n",
    "        ej = np.expand_dims(ej,axis = 1)\n",
    "        pj = [torch.Tensor(b[i]) for i in sample]\n",
    "        #pj = tf.squeeze(pj,axis = 1)\n",
    "\n",
    "        #print(pj)\n",
    "        # print('ej')\n",
    "        # print(ej)\n",
    "        # print('=======')\n",
    "\n",
    "        gamma = np.random.normal(0,0.1,(J+1,1)) \n",
    "        # print('gamma')\n",
    "        # print(gamma)\n",
    "        # print('=======')\n",
    "        ksai = rho*ej+gamma\n",
    "        # print('rho*ej')\n",
    "        # print(rho*ej)\n",
    "        # print('=======')         \n",
    "        # print('ksai')\n",
    "        # print(ksai)\n",
    "        # print('=======')        \n",
    "        price = np.random.uniform(0,5,(J+1,1)) #remove 0.8x\n",
    "\n",
    "        # print('price')\n",
    "        # print(price)\n",
    "        # print('=======')\n",
    "        ind = np.ones((J+ 1,1)) # edited by JZ\n",
    "        \n",
    "        epsilon_a = np.random.normal(0,.01,(J+1,1))# not specifiy\n",
    "        epsilon_b = np.random.normal(0,.01,(J+1,1))# not specifiy\n",
    "        \n",
    "        # print('epsilon')\n",
    "        # print(epsilon_a)\n",
    "        # print('=======')\n",
    "        #print(-np.log(ej+1))\n",
    "        utility_a = -za*price + -ej_func(ej+1)*za + ksai + epsilon_a\n",
    "        #utility_a = -za*price + -np.exp(ej+1)*za + ksai + epsilon_a\n",
    "\n",
    "\n",
    "        # print('utility_a')\n",
    "        # print(utility_a)\n",
    "        # print('=======')\n",
    "        utility_b = -zb*price + -ej_func(ej+1)*zb + ksai + epsilon_b\n",
    "        #utility_b = -zb*price + -np.exp(ej+1)*zb + ksai + epsilon_b\n",
    "        #-np.log(ej)\n",
    "        # print('utility_b')\n",
    "        # print(utility_b)\n",
    "        # print('=======')\n",
    "        choice_a = np.argmax(utility_a) # return the index of product in the sample that customer a chose\n",
    "\n",
    "        choice_b = np.argmax(utility_b) # return the index of product in the sample that customer b chose\n",
    "        # print('choice_a')\n",
    "        # print(choice_a)\n",
    "        # print('=======')\n",
    "        # print('choice_b')\n",
    "        # print(choice_b)\n",
    "        # print('=======')\n",
    "        \n",
    "        #if choice_a or choice_b == 0:\n",
    "            #continue\n",
    "\n",
    "        if choice_a == choice_b:\n",
    "            continue\n",
    "        else:\n",
    "\n",
    "\n",
    "            pa.append(pj[choice_a])\n",
    "            pb.append(pj[choice_b])\n",
    "            ea.append(ej[choice_a])\n",
    "            eb.append(ej[choice_b])\n",
    "\n",
    "\n",
    "\n",
    "            ca_type.append(ind[0]*za)  \n",
    "            cb_type.append(ind[0]*zb) \n",
    "\n",
    "            g_ca_pa.append(price[choice_a]*za)\n",
    "            g_ca_pb.append(price[choice_b]*za)\n",
    "            g_cb_pa.append(price[choice_a]*zb)\n",
    "            g_cb_pb.append(price[choice_b]*zb)\n",
    "                \n",
    "                \n",
    "                         \n",
    "    pa = torch.cat(pa, out=torch.Tensor(len(pa), 28, 28))\n",
    "    pb = torch.cat(pb, out=torch.Tensor(len(pb), 28, 28))\n",
    "\n",
    "    \n",
    "    ea = torch.Tensor(ea)\n",
    "    eb = torch.Tensor(eb)\n",
    "   \n",
    "    ca_type = torch.Tensor(ca_type)\n",
    "    cb_type = torch.Tensor(cb_type)\n",
    "    g_ca_pa = torch.Tensor(g_ca_pa)\n",
    "    g_ca_pb = torch.Tensor(g_ca_pb)\n",
    "    g_cb_pa = torch.Tensor(g_cb_pa)\n",
    "    g_cb_pb = torch.Tensor(g_cb_pb)\n",
    "    \n",
    "\n",
    "    \n",
    "    \n",
    "      \n",
    "    \n",
    "    return pa, pb, ea, eb, ca_type, cb_type, g_ca_pa, g_ca_pb, g_cb_pa, g_cb_pb  "
   ]
  },
  {
   "cell_type": "code",
   "execution_count": null,
   "metadata": {},
   "outputs": [],
   "source": [
    "pa, pb, ea, eb, ca_type, cb_type, g_ca_pa, g_ca_pb, g_cb_pa, g_cb_pb = Simdata(10,2,y_train,X_train,0.02)"
   ]
  },
  {
   "cell_type": "code",
   "execution_count": 5,
   "metadata": {},
   "outputs": [
    {
     "name": "stderr",
     "output_type": "stream",
     "text": [
      "100%|██████████| 10000/10000 [00:36<00:00, 270.66it/s]\n",
      "/tmp/ipykernel_170/2475246231.py:118: UserWarning: Creating a tensor from a list of numpy.ndarrays is extremely slow. Please consider converting the list to a single numpy.ndarray with numpy.array() before converting to a tensor. (Triggered internally at  ../torch/csrc/utils/tensor_new.cpp:201.)\n",
      "  ea = torch.Tensor(ea)\n"
     ]
    }
   ],
   "source": [
    "import pickle\n",
    "\n",
    "# Saving the objects:\n",
    "with open('sim_deepci_mnist.pkl', 'wb') as f:  # Python 3: open(..., 'wb')\n",
    "    pickle.dump([pa, pb,ea,eb, ca_type,cb_type,g_ca_pa,g_ca_pb,g_cb_pa,g_cb_pb], f)"
   ]
  },
  {
   "cell_type": "markdown",
   "metadata": {},
   "source": [
    "## Training"
   ]
  },
  {
   "cell_type": "code",
   "execution_count": 1,
   "metadata": {},
   "outputs": [
    {
     "name": "stdout",
     "output_type": "stream",
     "text": [
      "['/notebooks/AdversarialGMM/local_notebooks', '/usr/lib/python39.zip', '/usr/lib/python3.9', '/usr/lib/python3.9/lib-dynload', '', '/usr/local/lib/python3.9/dist-packages', '/usr/lib/python3/dist-packages']\n"
     ]
    }
   ],
   "source": [
    "import sys\n",
    "import os\n",
    "sys.path\n",
    "print(sys.path)\n",
    "sys.path.append('/notebooks/AdversarialGMM/')"
   ]
  },
  {
   "cell_type": "code",
   "execution_count": 2,
   "metadata": {},
   "outputs": [],
   "source": [
    "import pickle\n",
    "with open('sim_deepci_mnist.pkl', 'rb') as f:\n",
    "    pa, pb, ea, eb, ca_type, cb_type, g_ca_pa, g_ca_pb, g_cb_pa, g_cb_pb = pickle.load(f)\n",
    "    \n",
    "import os\n",
    "os.environ['CUDA_LAUNCH_BLOCKING'] = \"1\" "
   ]
  },
  {
   "cell_type": "code",
   "execution_count": 3,
   "metadata": {},
   "outputs": [],
   "source": [
    "### module imports\n",
    "import warnings\n",
    "warnings.simplefilter('ignore')\n",
    "import itertools\n",
    "import numpy as np\n",
    "import matplotlib.pyplot as plt \n",
    "import torch\n",
    "import torch.nn as nn\n",
    "import torch.nn.functional as F\n",
    "from torchvision import datasets, transforms\n",
    "from sklearn.model_selection import train_test_split\n",
    "import itertools\n",
    "import os\n",
    "\n",
    "### import from our files\n",
    "from mliv.dgps import get_data, get_tau_fn, fn_dict\n",
    "from mliv.neuralnet.utilities import log_metrics, plot_results, hyperparam_grid,\\\n",
    "                                     hyperparam_mult_grid, eval_performance\n",
    "from mliv.neuralnet.mnist_dgps import AbstractMNISTxz\n",
    "from mliv.neuralnet import AGMM,KernelLayerMMDGMM\n",
    "from mliv.neuralnet.rbflayer import gaussian, inverse_multiquadric"
   ]
  },
  {
   "cell_type": "code",
   "execution_count": 4,
   "metadata": {},
   "outputs": [],
   "source": [
    "device = torch.cuda.current_device() if torch.cuda.is_available() else None"
   ]
  },
  {
   "cell_type": "code",
   "execution_count": 5,
   "metadata": {},
   "outputs": [],
   "source": [
    "class CNN_Z_agmm(nn.Module):\n",
    "    def __init__(self):\n",
    "        super(CNN_Z_agmm, self).__init__()\n",
    "        self.conv1 = nn.Conv2d(1, 32, 3, 1)\n",
    "        self.conv2 = nn.Conv2d(32, 64, 3, 1)\n",
    "        self.dropout1 = nn.Dropout2d(0.25)\n",
    "        self.dropout2 = nn.Dropout2d(0.5)\n",
    "        self.fc1 = nn.Linear(9216, 128)\n",
    "        self.fc2 = nn.Linear(128, 10)\n",
    "\n",
    "    def forward(self, x):\n",
    "        \n",
    "        x = self.conv1(x)\n",
    "        x = F.relu(x)\n",
    "        x = self.conv2(x)\n",
    "        x = F.relu(x)\n",
    "        x = F.max_pool2d(x, 2)\n",
    "        x = self.dropout1(x)\n",
    "        x = torch.flatten(x, 1)\n",
    "        x = self.fc1(x)\n",
    "        x = F.relu(x)\n",
    "        x = self.dropout2(x)\n",
    "        x = self.fc2(x)\n",
    "        output = x  # F.log_softmax(x, dim=1)\n",
    "        return output.squeeze()\n",
    "\n",
    "\n",
    "class CNN_Z_kernel(nn.Module):\n",
    "    def __init__(self, g_features=100):\n",
    "        super(CNN_Z_kernel, self).__init__()\n",
    "        self.conv1 = nn.Conv2d(1, 32, 3, 1)\n",
    "        self.conv2 = nn.Conv2d(32, 64, 3, 1)\n",
    "        self.dropout1 = nn.Dropout2d(0.25)\n",
    "        self.dropout2 = nn.Dropout2d(0.5)\n",
    "        self.fc1 = nn.Linear(9216, 128)\n",
    "        self.fc2 = nn.Linear(128, g_features)\n",
    "\n",
    "    def forward(self, x):\n",
    "        x = self.conv1(x)\n",
    "        x = F.relu(x)\n",
    "        x = self.conv2(x)\n",
    "        x = F.relu(x)\n",
    "        x = F.max_pool2d(x, 2)\n",
    "        x = self.dropout1(x)\n",
    "        x = torch.flatten(x, 1)\n",
    "        x = self.fc1(x)\n",
    "        x = F.relu(x)\n",
    "        x = self.dropout2(x)\n",
    "        x = self.fc2(x)\n",
    "        output = x  # F.log_softmax(x, dim=1)\n",
    "        return output.squeeze()\n",
    "\n",
    "\n",
    "class CNN_X(nn.Module):\n",
    "    def __init__(self):\n",
    "        super(CNN_X, self).__init__()\n",
    "        self.conv1 = nn.Conv2d(1, 32, 3, 1)\n",
    "        self.conv2 = nn.Conv2d(32, 64, 3, 1)\n",
    "        self.dropout1 = nn.Dropout2d(0.25)\n",
    "        self.dropout2 = nn.Dropout2d(0.5)\n",
    "        self.fc1 = nn.Linear(9216, 128)\n",
    "        self.fc2 = nn.Linear(128, 1)\n",
    "\n",
    "    def forward(self, x):\n",
    "        x = x.view(x.shape[0], 1, 28, 28)\n",
    "        x = self.conv1(x)\n",
    "        x = F.relu(x)\n",
    "        x = self.conv2(x)\n",
    "        x = F.relu(x)\n",
    "        x = F.max_pool2d(x, 2)\n",
    "        x = self.dropout1(x)\n",
    "        x = torch.flatten(x, 1)\n",
    "        x = self.fc1(x)\n",
    "        x = F.relu(x)\n",
    "        x = self.dropout2(x)\n",
    "        x = self.fc2(x)\n",
    "        output = x  # F.log_softmax(x, dim=1)\n",
    "        return output.squeeze()"
   ]
  },
  {
   "cell_type": "code",
   "execution_count": 6,
   "metadata": {},
   "outputs": [],
   "source": [
    "def fc_z_kernel(n_z, n_hidden, g_features, dropout_p):\n",
    "    FC_Z_kernel = nn.Sequential(\n",
    "        nn.Dropout(p=dropout_p),\n",
    "        nn.Linear(n_z, n_hidden),\n",
    "        nn.LeakyReLU(),\n",
    "        nn.Dropout(p=dropout_p),\n",
    "        nn.Linear(n_hidden, g_features),\n",
    "        nn.ReLU(),\n",
    "    )\n",
    "    return FC_Z_kernel\n",
    "\n",
    "\n",
    "def fc_z_agmm(n_z, n_hidden, dropout_p):\n",
    "    FC_Z_agmm = nn.Sequential(\n",
    "        nn.Dropout(p=dropout_p),\n",
    "        nn.Linear(n_z, n_hidden),\n",
    "        nn.LeakyReLU(),\n",
    "        nn.Dropout(p=dropout_p),\n",
    "        nn.Linear(n_hidden, 1),\n",
    "    )\n",
    "    return FC_Z_agmm\n",
    "\n",
    "\n",
    "def fc_x(n_t, n_hidden, dropout_p):\n",
    "    FC_X = nn.Sequential(\n",
    "        nn.Dropout(p=dropout_p),\n",
    "        nn.Linear(n_t, n_hidden),\n",
    "        nn.LeakyReLU(),\n",
    "        nn.Dropout(p=dropout_p),\n",
    "        nn.Linear(n_hidden, 1),\n",
    "    )\n",
    "    return FC_X"
   ]
  },
  {
   "cell_type": "code",
   "execution_count": 7,
   "metadata": {},
   "outputs": [],
   "source": [
    "learner = CNN_X()\n",
    "\n",
    "n_instruments = 1\n",
    "n_hidden = 100\n",
    "dropout_p = 0.1\n",
    "adversary = fc_z_agmm(n_instruments, n_hidden, dropout_p)"
   ]
  },
  {
   "cell_type": "code",
   "execution_count": 8,
   "metadata": {},
   "outputs": [],
   "source": [
    "X_1_a_j = -g_ca_pa\n",
    "X_1_a_k = -g_ca_pb\n",
    "X_1_b_k = -g_cb_pb\n",
    "X_1_b_j = -g_cb_pa\n",
    "\n",
    "X_2_a_j = pa\n",
    "X_2_a_k = pb\n",
    "X_2_b_k = pb\n",
    "X_2_b_j = pa\n",
    "\n",
    "z_a = ca_type\n",
    "z_b = cb_type\n",
    "\n",
    "Z = g_ca_pa - g_ca_pb + g_cb_pb - g_cb_pa"
   ]
  },
  {
   "cell_type": "code",
   "execution_count": 9,
   "metadata": {},
   "outputs": [],
   "source": [
    "from mliv.neuralnet import ADeepCI"
   ]
  },
  {
   "cell_type": "code",
   "execution_count": null,
   "metadata": {},
   "outputs": [],
   "source": [
    "res = ADeepCI(learner, adversary).fit(X_1_a_j, X_2_a_j, X_1_a_k, X_2_a_k, \n",
    "                  X_1_b_j, X_2_b_j, X_1_b_k, X_2_b_k, Z, z_a, z_b,\n",
    "            learner_l2=1e-3, adversary_l2=1e-4, adversary_norm_reg=1e-3,\n",
    "            learner_lr=0.001, adversary_lr=0.001, n_epochs=100, bs=100, train_learner_every=1, train_adversary_every=1,\n",
    "            ols_weight=0., warm_start=False, logger=None, model_dir='.', device=None, verbose=0)"
   ]
  },
  {
   "cell_type": "code",
   "execution_count": null,
   "metadata": {},
   "outputs": [],
   "source": [
    "model_final = torch.load(os.path.join(res.model_dir,\"epoch{}\".format(res.n_epochs - 1)))"
   ]
  },
  {
   "cell_type": "code",
   "execution_count": null,
   "metadata": {},
   "outputs": [],
   "source": [
    "import matplotlib.pyplot as plt\n",
    "import numpy as np\n",
    "\n",
    "plt.scatter(eb.T.squeeze().cpu().data.numpy(), model_final(pb).cpu().data.numpy())\n",
    "plt.show()"
   ]
  },
  {
   "cell_type": "code",
   "execution_count": null,
   "metadata": {},
   "outputs": [],
   "source": [
    "res"
   ]
  },
  {
   "cell_type": "code",
   "execution_count": null,
   "metadata": {},
   "outputs": [],
   "source": []
  },
  {
   "cell_type": "code",
   "execution_count": null,
   "metadata": {},
   "outputs": [],
   "source": []
  },
  {
   "cell_type": "code",
   "execution_count": null,
   "metadata": {},
   "outputs": [],
   "source": []
  },
  {
   "cell_type": "code",
   "execution_count": null,
   "metadata": {},
   "outputs": [],
   "source": []
  },
  {
   "cell_type": "code",
   "execution_count": null,
   "metadata": {},
   "outputs": [],
   "source": []
  },
  {
   "cell_type": "code",
   "execution_count": null,
   "metadata": {},
   "outputs": [],
   "source": []
  },
  {
   "cell_type": "code",
   "execution_count": null,
   "metadata": {},
   "outputs": [],
   "source": []
  },
  {
   "cell_type": "code",
   "execution_count": null,
   "metadata": {},
   "outputs": [],
   "source": []
  },
  {
   "cell_type": "code",
   "execution_count": null,
   "metadata": {},
   "outputs": [],
   "source": []
  }
 ],
 "metadata": {
  "accelerator": "GPU",
  "colab": {
   "collapsed_sections": [],
   "name": "MNIST_Experiments.ipynb",
   "provenance": [],
   "toc_visible": true
  },
  "kernelspec": {
   "display_name": "Python 3 (ipykernel)",
   "language": "python",
   "name": "python3"
  },
  "language_info": {
   "codemirror_mode": {
    "name": "ipython",
    "version": 3
   },
   "file_extension": ".py",
   "mimetype": "text/x-python",
   "name": "python",
   "nbconvert_exporter": "python",
   "pygments_lexer": "ipython3",
   "version": "3.9.13"
  }
 },
 "nbformat": 4,
 "nbformat_minor": 4
}
