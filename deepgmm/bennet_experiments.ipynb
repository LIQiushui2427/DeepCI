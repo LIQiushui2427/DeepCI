{
 "cells": [
  {
   "cell_type": "code",
   "execution_count": null,
   "metadata": {
    "colab": {
     "base_uri": "https://localhost:8080/",
     "height": 289
    },
    "colab_type": "code",
    "id": "_RxEvOZNp10q",
    "outputId": "c1a58a00-3df5-4c83-be64-61d3cee36d63"
   },
   "outputs": [],
   "source": [
    "!git clone https://github.com/CausalML/DeepGMM.git\n",
    "%cd DeepGMM\n",
    "!ls\n",
    "# Some edits to be made\n",
    "# 1. remove the import of plotting in learning_dev_f.py and comment out the two places where PlotElement is used in that file\n",
    "# 2. in run_mnist_experiments_ours.py in line 57-58 where np.savez is called add a .cpu() at the end of every keyword\n",
    "#    argument.\n",
    "\n",
    "# Other pointers:\n",
    "# code takes about 12 minutes for mnist_x scenario. \n",
    "# Colab CUDA ran out of memory when trying to run mnist_z scenario soon after mnist_x. need to investigate the reason\n"
   ]
  },
  {
   "cell_type": "code",
   "execution_count": null,
   "metadata": {
    "colab": {
     "base_uri": "https://localhost:8080/",
     "height": 1000
    },
    "colab_type": "code",
    "id": "03iMZBQ5p4iP",
    "outputId": "7d16542c-77cb-4acf-bfad-892270104c0b"
   },
   "outputs": [],
   "source": [
    "!python3 generate_mnist_data.py"
   ]
  },
  {
   "cell_type": "code",
   "execution_count": null,
   "metadata": {
    "colab": {
     "base_uri": "https://localhost:8080/",
     "height": 1000
    },
    "colab_type": "code",
    "id": "jg4nx0E_q4YI",
    "outputId": "9d04dbb8-97ef-405d-b901-47323bfdba15"
   },
   "outputs": [],
   "source": [
    "%%time\n",
    "!python3 run_mnist_experiments_ours.py"
   ]
  },
  {
   "cell_type": "code",
   "execution_count": null,
   "metadata": {
    "colab": {},
    "colab_type": "code",
    "id": "Bwl2Vp6I7Wv5"
   },
   "outputs": [],
   "source": [
    "import torch\n",
    "import numpy as np\n",
    "cuda0 = torch.device('cuda:0')\n",
    "a = torch.ones([2, 4], dtype=torch.float64, device=cuda0,requires_grad=True)"
   ]
  },
  {
   "cell_type": "code",
   "execution_count": null,
   "metadata": {
    "colab": {
     "base_uri": "https://localhost:8080/",
     "height": 51
    },
    "colab_type": "code",
    "id": "d2rvQqf97twH",
    "outputId": "98c49631-a403-4c90-c18a-37e1ceeff1a7"
   },
   "outputs": [],
   "source": [
    "a.detach().cpu()"
   ]
  }
 ],
 "metadata": {
  "accelerator": "GPU",
  "colab": {
   "collapsed_sections": [],
   "name": "bennet_experiments.ipynb",
   "provenance": []
  },
  "kernelspec": {
   "display_name": "Python 3",
   "name": "python3"
  }
 },
 "nbformat": 4,
 "nbformat_minor": 0
}
